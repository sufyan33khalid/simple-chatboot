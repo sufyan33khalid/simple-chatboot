{
  "nbformat": 4,
  "nbformat_minor": 0,
  "metadata": {
    "colab": {
      "provenance": [],
      "gpuType": "T4",
      "authorship_tag": "ABX9TyM1cFlUmlZ7BNBjA5Ng1lGB",
      "include_colab_link": true
    },
    "kernelspec": {
      "name": "python3",
      "display_name": "Python 3"
    },
    "language_info": {
      "name": "python"
    },
    "accelerator": "GPU"
  },
  "cells": [
    {
      "cell_type": "markdown",
      "metadata": {
        "id": "view-in-github",
        "colab_type": "text"
      },
      "source": [
        "<a href=\"https://colab.research.google.com/github/sufyan33khalid/simple-chatboot/blob/main/simple_chatbot.ipynb\" target=\"_parent\"><img src=\"https://colab.research.google.com/assets/colab-badge.svg\" alt=\"Open In Colab\"/></a>"
      ]
    },
    {
      "cell_type": "code",
      "execution_count": null,
      "metadata": {
        "colab": {
          "base_uri": "https://localhost:8080/"
        },
        "id": "bAidKn6uwcoh",
        "outputId": "ae0e1a0c-411f-4588-9209-f6c281f76910"
      },
      "outputs": [
        {
          "output_type": "stream",
          "name": "stdout",
          "text": [
            "AI Chatbot: Hi! I can answer your questions about Artificial Intelligence. Type 'exit' to end the conversation.\n",
            "You: what is ai\n",
            "AI Chatbot: AI Chatbot: Sorry, I can only answer AI-related questions. Please ask something about AI.\n",
            "You: what are the types of ai\n",
            "AI Chatbot: AI can be categorized into three types: Narrow AI, General AI, and Super AI.\n",
            "You: what is machine learning\n",
            "AI Chatbot: Machine Learning is a subset of AI that involves the use of algorithms and statistical models to allow computers to improve their performance on tasks over time without explicit programming.\n",
            "You: what is deep learning\n",
            "AI Chatbot: Deep Learning is a subset of machine learning that uses neural networks with many layers (hence 'deep') to model complex patterns in data.\n",
            "You: are you konw what is neural network \n",
            "AI Chatbot: AI Chatbot: Sorry, I can only answer AI-related questions. Please ask something about AI.\n",
            "You: what is neural network\n",
            "AI Chatbot: A Neural Network is a series of algorithms that attempt to recognize relationships in a set of data through a process that mimics the way the human brain operates.\n",
            "You: exit\n",
            "AI Chatbot: Goodbye!\n"
          ]
        }
      ],
      "source": []
    },
    {
      "cell_type": "code",
      "source": [],
      "metadata": {
        "id": "XSNiZ7vtyqlR"
      },
      "execution_count": null,
      "outputs": []
    }
  ]
}